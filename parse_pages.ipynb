{
 "cells": [
  {
   "cell_type": "markdown",
   "id": "caf80abe-d9dd-4e59-bcc8-acc5afa4a619",
   "metadata": {},
   "source": [
    "### Import"
   ]
  },
  {
   "cell_type": "code",
   "execution_count": 1,
   "id": "c7bae91c-ef64-42cd-96b1-0b99e877d784",
   "metadata": {},
   "outputs": [],
   "source": [
    "import requests"
   ]
  },
  {
   "cell_type": "code",
   "execution_count": 2,
   "id": "83b1322c-5342-4da8-a5e8-37c89c039462",
   "metadata": {},
   "outputs": [],
   "source": [
    "import math"
   ]
  },
  {
   "cell_type": "code",
   "execution_count": 3,
   "id": "df296545-74a0-427d-b669-6466d127208e",
   "metadata": {},
   "outputs": [],
   "source": [
    "import json"
   ]
  },
  {
   "cell_type": "markdown",
   "id": "c849d894-8b42-4ec7-a970-4a1e36891cd5",
   "metadata": {},
   "source": [
    "### Prase pages"
   ]
  },
  {
   "cell_type": "code",
   "execution_count": 4,
   "id": "a0ad7341-ea33-4d0a-877e-f44f3e970e2b",
   "metadata": {},
   "outputs": [],
   "source": [
    "# how many records we need to get from request?"
   ]
  },
  {
   "cell_type": "code",
   "execution_count": 5,
   "id": "72ec5d56-c925-432a-99e2-e3dd489a19f9",
   "metadata": {},
   "outputs": [],
   "source": [
    "f = open(\"output/try_output.json\")"
   ]
  },
  {
   "cell_type": "code",
   "execution_count": null,
   "id": "fde75814-ed84-4551-984b-b999957bba21",
   "metadata": {},
   "outputs": [],
   "source": [
    "data = json.load(f)"
   ]
  },
  {
   "cell_type": "code",
   "execution_count": null,
   "id": "09723792-06f0-4f75-a61c-4007a988958e",
   "metadata": {},
   "outputs": [],
   "source": [
    "records_num = data['result_size']"
   ]
  },
  {
   "cell_type": "code",
   "execution_count": null,
   "id": "aff6f358-47bb-4e23-a97c-787dc3da972c",
   "metadata": {},
   "outputs": [],
   "source": [
    "# Looping requests 20 results per page"
   ]
  },
  {
   "cell_type": "code",
   "execution_count": null,
   "id": "24f35d59-798c-4481-b014-e00cf7fbf749",
   "metadata": {},
   "outputs": [],
   "source": [
    "# how many requests to send?"
   ]
  },
  {
   "cell_type": "code",
   "execution_count": null,
   "id": "b54cfd80-34b1-4af8-bd8c-c11463cfff5d",
   "metadata": {},
   "outputs": [
    {
     "name": "stdout",
     "output_type": "stream",
     "text": [
      "Stored 'requests_num' (int)\n"
     ]
    }
   ],
   "source": [
    "requests_num = int(math.ceil(records_num / 20))\n",
    "\n",
    "%store requests_num"
   ]
  },
  {
   "cell_type": "code",
   "execution_count": null,
   "id": "e53523ba-8a0d-49b2-91bc-c92342877f14",
   "metadata": {},
   "outputs": [],
   "source": [
    "# Lopping over records"
   ]
  },
  {
   "cell_type": "code",
   "execution_count": null,
   "id": "4ffbf0ca-2080-4669-b215-048f827f017b",
   "metadata": {},
   "outputs": [],
   "source": [
    "# Loading stored variables from API"
   ]
  },
  {
   "cell_type": "code",
   "execution_count": null,
   "id": "19e45fac-cf72-4e06-ae40-c2d4729bcc6f",
   "metadata": {},
   "outputs": [],
   "source": [
    "%store -r category_main_cb\n",
    "%store -r category_sub_cb\n",
    "%store -r category_type_cb\n",
    "%store -r locality_district_id\n",
    "%store -r locality_region_id\n",
    "%store -r per_page"
   ]
  },
  {
   "cell_type": "code",
   "execution_count": 16,
   "id": "aefff572-ede8-42f5-9e8c-359d2a0c7c17",
   "metadata": {},
   "outputs": [],
   "source": [
    "n = requests_num\n",
    "\n",
    "for i in range(n):\n",
    "    i = i + 1 # starting from page \"1\"\n",
    "    request = requests.get(f\"https://www.sreality.cz/api/cs/v2/estates?category_main_cb={category_main_cb}&category_sub_cb={category_sub_cb}&category_type_cb={category_type_cb}&locality_district_id={locality_district_id}&locality_region_id={locality_region_id}&page={i}&per_page={per_page}\")\n",
    "    output = request.json()\n",
    "    json_object = json.dumps(output, indent=4)\n",
    "    with open(f\"output/page_{i}.json\", \"w\") as outfile:\n",
    "        outfile.write(json_object)"
   ]
  }
 ],
 "metadata": {
  "kernelspec": {
   "display_name": "Python 3 (ipykernel)",
   "language": "python",
   "name": "python3"
  },
  "language_info": {
   "codemirror_mode": {
    "name": "ipython",
    "version": 3
   },
   "file_extension": ".py",
   "mimetype": "text/x-python",
   "name": "python",
   "nbconvert_exporter": "python",
   "pygments_lexer": "ipython3",
   "version": "3.9.13"
  }
 },
 "nbformat": 4,
 "nbformat_minor": 5
}
