{
 "cells": [
  {
   "cell_type": "markdown",
   "id": "32bf1ff1-db7e-4b76-bb24-8b75bb0f09aa",
   "metadata": {},
   "source": [
    "# Data processing"
   ]
  },
  {
   "cell_type": "markdown",
   "id": "a64116e1-380f-4134-aedd-1ac16a88aeaa",
   "metadata": {},
   "source": [
    "#### Import"
   ]
  },
  {
   "cell_type": "code",
   "execution_count": 1,
   "id": "37a961a4-f544-4ec1-b9a7-f644df2314e8",
   "metadata": {},
   "outputs": [],
   "source": [
    "import json"
   ]
  },
  {
   "cell_type": "code",
   "execution_count": 2,
   "id": "fd2ccc60-e219-4c3b-ad2d-e54db3326fde",
   "metadata": {},
   "outputs": [],
   "source": [
    "import h3"
   ]
  },
  {
   "cell_type": "code",
   "execution_count": 3,
   "id": "7fc1c6a3-b8a3-43e2-ac40-0aea0e504b4b",
   "metadata": {},
   "outputs": [],
   "source": [
    "import numpy as np"
   ]
  },
  {
   "cell_type": "code",
   "execution_count": 4,
   "id": "308bfac5-c930-4b61-90aa-70203dbafc18",
   "metadata": {},
   "outputs": [],
   "source": [
    "import pandas as pd"
   ]
  },
  {
   "cell_type": "code",
   "execution_count": 5,
   "id": "788845e3-9b71-4a92-91d2-7761fe5f8be4",
   "metadata": {},
   "outputs": [],
   "source": [
    "from matplotlib import pyplot"
   ]
  },
  {
   "cell_type": "markdown",
   "id": "5d881f61-de3b-4f96-ac3d-e35e22a4cafc",
   "metadata": {},
   "source": [
    "Merging pages"
   ]
  },
  {
   "cell_type": "code",
   "execution_count": 6,
   "id": "d1eb0edb-2287-430d-9227-c923ca03fec2",
   "metadata": {},
   "outputs": [],
   "source": [
    "f = open(\"output/output.json\")"
   ]
  },
  {
   "cell_type": "code",
   "execution_count": 7,
   "id": "5edcc0cc-9e56-4364-a70c-dd5894f6f516",
   "metadata": {},
   "outputs": [],
   "source": [
    "data = json.load(f)"
   ]
  },
  {
   "cell_type": "markdown",
   "id": "df93e1f3-1211-405a-af5d-561b78637f26",
   "metadata": {},
   "source": [
    "Create DataFrame"
   ]
  },
  {
   "cell_type": "code",
   "execution_count": 8,
   "id": "fbd87ad4-0b5f-4244-b061-f7e415f801f5",
   "metadata": {},
   "outputs": [],
   "source": [
    "estates = data['_embedded']['estates']"
   ]
  },
  {
   "cell_type": "code",
   "execution_count": 9,
   "id": "03dcdd95-dade-4a80-a34e-94ea51e61ca9",
   "metadata": {},
   "outputs": [],
   "source": [
    "df_estates = pd.DataFrame(columns=[\n",
    "'id',\n",
    "'name',\n",
    "'locality_name',\n",
    "'price_czk',\n",
    "'price_raw',\n",
    "'square',\n",
    "'city',\n",
    "'district',\n",
    "'street',\n",
    "'lat',\n",
    "'lon'\n",
    "])"
   ]
  },
  {
   "cell_type": "code",
   "execution_count": 10,
   "id": "1fba62a0-8796-4c20-b2d9-62bc2c8622fe",
   "metadata": {},
   "outputs": [],
   "source": [
    "i = int(-1) #Counter\n",
    "for estate in estates:\n",
    "    i += 1\n",
    "    \n",
    "    # Get square\n",
    "    square = [int(s) for s in estates[int(i)]['name'].split() if s.isdigit()]\n",
    "    # Get locality city, district, street\n",
    "    locality = estates[int(i)]['seo']['locality']\n",
    "    locality = locality.split('-')\n",
    "    \n",
    "    temp = {\n",
    "        'id': estates[int(i)]['hash_id'],\n",
    "        'name': estates[int(i)]['name'],\n",
    "        'locality_name': estates[int(i)]['locality'],\n",
    "        'price_czk': int(estates[int(i)]['price']),\n",
    "        'price_raw': int(estates[int(i)]['price_czk']['value_raw']),\n",
    "        'square': square[0],\n",
    "        'city': str(locality[0]),\n",
    "        'district': str(locality[1]),\n",
    "        'street': str(locality[2]),\n",
    "        'lat': float(estates[int(i)]['gps']['lat']),\n",
    "        'lon': float(estates[int(i)]['gps']['lon'])\n",
    "    }\n",
    "    df_estates.loc[len(df_estates)] = temp\n",
    "    \n",
    "    if i == \"21\":\n",
    "        break"
   ]
  },
  {
   "cell_type": "code",
   "execution_count": 11,
   "id": "a7f3629a-443b-4687-ad0e-4a656e50020c",
   "metadata": {},
   "outputs": [
    {
     "data": {
      "image/png": "[encoded data removed]",
      "text/plain": [
       "<Figure size 640x480 with 1 Axes>"
      ]
     },
     "metadata": {},
     "output_type": "display_data"
    }
   ],
   "source": [
    "pyplot.scatter(df_estates['price_raw'], df_estates['square'])\n",
    "pyplot.show()"
   ]
  },
  {
   "cell_type": "code",
   "execution_count": 12,
   "id": "e91e2d35-36eb-4494-8e6e-b40e23dd1d90",
   "metadata": {},
   "outputs": [
    {
     "data": {
      "text/plain": [
       "(301, 11)"
      ]
     },
     "execution_count": 12,
     "metadata": {},
     "output_type": "execute_result"
    }
   ],
   "source": [
    "df_estates.shape"
   ]
  },
  {
   "cell_type": "code",
   "execution_count": 13,
   "id": "4729f2c9-046b-4c0c-875d-3ed707d481dc",
   "metadata": {},
   "outputs": [
    {
     "data": {
      "text/html": [
       "<div>\n",
       "<style scoped>\n",
       "    .dataframe tbody tr th:only-of-type {\n",
       "        vertical-align: middle;\n",
       "    }\n",
       "\n",
       "    .dataframe tbody tr th {\n",
       "        vertical-align: top;\n",
       "    }\n",
       "\n",
       "    .dataframe thead th {\n",
       "        text-align: right;\n",
       "    }\n",
       "</style>\n",
       "<table border=\"1\" class=\"dataframe\">\n",
       "  <thead>\n",
       "    <tr style=\"text-align: right;\">\n",
       "      <th></th>\n",
       "      <th>id</th>\n",
       "      <th>name</th>\n",
       "      <th>locality_name</th>\n",
       "      <th>price_czk</th>\n",
       "      <th>price_raw</th>\n",
       "      <th>square</th>\n",
       "      <th>city</th>\n",
       "      <th>district</th>\n",
       "      <th>street</th>\n",
       "      <th>lat</th>\n",
       "      <th>lon</th>\n",
       "    </tr>\n",
       "  </thead>\n",
       "  <tbody>\n",
       "    <tr>\n",
       "      <th>0</th>\n",
       "      <td>546752332</td>\n",
       "      <td>Prodej bytu 1+kk 41 m²</td>\n",
       "      <td>Praha 4 - Nusle</td>\n",
       "      <td>6931000</td>\n",
       "      <td>6931000</td>\n",
       "      <td>41</td>\n",
       "      <td>praha</td>\n",
       "      <td>nusle</td>\n",
       "      <td>belehradska</td>\n",
       "      <td>50.053007</td>\n",
       "      <td>14.449939</td>\n",
       "    </tr>\n",
       "    <tr>\n",
       "      <th>1</th>\n",
       "      <td>3492820812</td>\n",
       "      <td>Prodej bytu 2+kk 76 m²</td>\n",
       "      <td>Praha 4 - Modřany</td>\n",
       "      <td>9052000</td>\n",
       "      <td>9052000</td>\n",
       "      <td>76</td>\n",
       "      <td>praha</td>\n",
       "      <td>modrany</td>\n",
       "      <td>piskarska</td>\n",
       "      <td>50.001112</td>\n",
       "      <td>14.413055</td>\n",
       "    </tr>\n",
       "    <tr>\n",
       "      <th>2</th>\n",
       "      <td>247371596</td>\n",
       "      <td>Prodej bytu 2+kk 55 m²</td>\n",
       "      <td>Praha 4 - Modřany</td>\n",
       "      <td>5922000</td>\n",
       "      <td>5922000</td>\n",
       "      <td>55</td>\n",
       "      <td>praha</td>\n",
       "      <td>modrany</td>\n",
       "      <td>levskeho</td>\n",
       "      <td>49.996889</td>\n",
       "      <td>14.442091</td>\n",
       "    </tr>\n",
       "    <tr>\n",
       "      <th>3</th>\n",
       "      <td>3595712332</td>\n",
       "      <td>Prodej bytu 2+kk 73 m²</td>\n",
       "      <td>Praha 4 - Nusle</td>\n",
       "      <td>7239000</td>\n",
       "      <td>7239000</td>\n",
       "      <td>73</td>\n",
       "      <td>praha</td>\n",
       "      <td>nusle</td>\n",
       "      <td>sdruzeni</td>\n",
       "      <td>50.043985</td>\n",
       "      <td>14.456269</td>\n",
       "    </tr>\n",
       "    <tr>\n",
       "      <th>4</th>\n",
       "      <td>4209129292</td>\n",
       "      <td>Prodej bytu 2+kk 71 m²</td>\n",
       "      <td>Praha 4 - Nusle</td>\n",
       "      <td>8459000</td>\n",
       "      <td>8459000</td>\n",
       "      <td>71</td>\n",
       "      <td>praha</td>\n",
       "      <td>nusle</td>\n",
       "      <td>5</td>\n",
       "      <td>50.048815</td>\n",
       "      <td>14.443267</td>\n",
       "    </tr>\n",
       "    <tr>\n",
       "      <th>...</th>\n",
       "      <td>...</td>\n",
       "      <td>...</td>\n",
       "      <td>...</td>\n",
       "      <td>...</td>\n",
       "      <td>...</td>\n",
       "      <td>...</td>\n",
       "      <td>...</td>\n",
       "      <td>...</td>\n",
       "      <td>...</td>\n",
       "      <td>...</td>\n",
       "      <td>...</td>\n",
       "    </tr>\n",
       "    <tr>\n",
       "      <th>296</th>\n",
       "      <td>3442608476</td>\n",
       "      <td>Prodej bytu 2+kk 85 m²</td>\n",
       "      <td>Praha 4 - Modřany</td>\n",
       "      <td>12690000</td>\n",
       "      <td>12690000</td>\n",
       "      <td>85</td>\n",
       "      <td>praha</td>\n",
       "      <td>modrany</td>\n",
       "      <td>k</td>\n",
       "      <td>49.988115</td>\n",
       "      <td>14.418654</td>\n",
       "    </tr>\n",
       "    <tr>\n",
       "      <th>297</th>\n",
       "      <td>941750620</td>\n",
       "      <td>Prodej bytu 2+kk 65 m²</td>\n",
       "      <td>Praha 4 - Michle</td>\n",
       "      <td>6949000</td>\n",
       "      <td>6949000</td>\n",
       "      <td>65</td>\n",
       "      <td>praha</td>\n",
       "      <td>michle</td>\n",
       "      <td>u</td>\n",
       "      <td>50.042948</td>\n",
       "      <td>14.466633</td>\n",
       "    </tr>\n",
       "    <tr>\n",
       "      <th>298</th>\n",
       "      <td>1546532956</td>\n",
       "      <td>Prodej bytu 2+kk 64 m²</td>\n",
       "      <td>Praha 4 - Háje</td>\n",
       "      <td>8679000</td>\n",
       "      <td>8679000</td>\n",
       "      <td>64</td>\n",
       "      <td>praha</td>\n",
       "      <td>haje</td>\n",
       "      <td>stichova</td>\n",
       "      <td>50.020670</td>\n",
       "      <td>14.552052</td>\n",
       "    </tr>\n",
       "    <tr>\n",
       "      <th>299</th>\n",
       "      <td>2862979164</td>\n",
       "      <td>Prodej bytu 2+kk 53 m²</td>\n",
       "      <td>Praha 4 - Háje</td>\n",
       "      <td>8808000</td>\n",
       "      <td>8808000</td>\n",
       "      <td>53</td>\n",
       "      <td>praha</td>\n",
       "      <td>haje</td>\n",
       "      <td>stichova</td>\n",
       "      <td>50.020670</td>\n",
       "      <td>14.552052</td>\n",
       "    </tr>\n",
       "    <tr>\n",
       "      <th>300</th>\n",
       "      <td>2983368796</td>\n",
       "      <td>Prodej bytu 2+kk 48 m²</td>\n",
       "      <td>Praha 4 - Krč</td>\n",
       "      <td>5136000</td>\n",
       "      <td>5136000</td>\n",
       "      <td>48</td>\n",
       "      <td>praha</td>\n",
       "      <td>krc</td>\n",
       "      <td>matechova</td>\n",
       "      <td>50.029482</td>\n",
       "      <td>14.451651</td>\n",
       "    </tr>\n",
       "  </tbody>\n",
       "</table>\n",
       "<p>301 rows × 11 columns</p>\n",
       "</div>"
      ],
      "text/plain": [
       "             id                    name      locality_name  price_czk  \\\n",
       "0     546752332  Prodej bytu 1+kk 41 m²    Praha 4 - Nusle    6931000   \n",
       "1    3492820812  Prodej bytu 2+kk 76 m²  Praha 4 - Modřany    9052000   \n",
       "2     247371596  Prodej bytu 2+kk 55 m²  Praha 4 - Modřany    5922000   \n",
       "3    3595712332  Prodej bytu 2+kk 73 m²    Praha 4 - Nusle    7239000   \n",
       "4    4209129292  Prodej bytu 2+kk 71 m²    Praha 4 - Nusle    8459000   \n",
       "..          ...                     ...                ...        ...   \n",
       "296  3442608476  Prodej bytu 2+kk 85 m²  Praha 4 - Modřany   12690000   \n",
       "297   941750620  Prodej bytu 2+kk 65 m²   Praha 4 - Michle    6949000   \n",
       "298  1546532956  Prodej bytu 2+kk 64 m²     Praha 4 - Háje    8679000   \n",
       "299  2862979164  Prodej bytu 2+kk 53 m²     Praha 4 - Háje    8808000   \n",
       "300  2983368796  Prodej bytu 2+kk 48 m²      Praha 4 - Krč    5136000   \n",
       "\n",
       "     price_raw  square   city district       street        lat        lon  \n",
       "0      6931000      41  praha    nusle  belehradska  50.053007  14.449939  \n",
       "1      9052000      76  praha  modrany    piskarska  50.001112  14.413055  \n",
       "2      5922000      55  praha  modrany     levskeho  49.996889  14.442091  \n",
       "3      7239000      73  praha    nusle     sdruzeni  50.043985  14.456269  \n",
       "4      8459000      71  praha    nusle            5  50.048815  14.443267  \n",
       "..         ...     ...    ...      ...          ...        ...        ...  \n",
       "296   12690000      85  praha  modrany            k  49.988115  14.418654  \n",
       "297    6949000      65  praha   michle            u  50.042948  14.466633  \n",
       "298    8679000      64  praha     haje     stichova  50.020670  14.552052  \n",
       "299    8808000      53  praha     haje     stichova  50.020670  14.552052  \n",
       "300    5136000      48  praha      krc    matechova  50.029482  14.451651  \n",
       "\n",
       "[301 rows x 11 columns]"
      ]
     },
     "execution_count": 13,
     "metadata": {},
     "output_type": "execute_result"
    }
   ],
   "source": [
    "df_estates"
   ]
  },
  {
   "cell_type": "code",
   "execution_count": 14,
   "id": "c55aeb36-1899-4ade-b82e-2a091fb1db32",
   "metadata": {},
   "outputs": [],
   "source": [
    "df_estates.to_json('properties.json')"
   ]
  },
  {
   "cell_type": "code",
   "execution_count": 15,
   "id": "1f7172e0-3697-43da-93fd-4524831289fc",
   "metadata": {},
   "outputs": [],
   "source": [
    "geojson = {\n",
    "    \"type\": \"FeatureCollection\",\n",
    "    \"features\": [\n",
    "    {\n",
    "        \"type\": \"Feature\",\n",
    "        \"geometry\" : {\n",
    "            \"type\": \"Point\",\n",
    "            \"coordinates\": [df_estates['lon'], df_estates['lat']],\n",
    "            },\n",
    "        \"properties\" : {\n",
    "            \"id\": \"\",\n",
    "            \"price\": \"\",\n",
    "        },\n",
    "     }]\n",
    "}\n",
    "\n",
    "geojson['properties'] = df_estates['id']"
   ]
  },
  {
   "cell_type": "code",
   "execution_count": 16,
   "id": "75fa4870-3c96-4dc4-9a0f-79103c735a02",
   "metadata": {},
   "outputs": [],
   "source": [
    "from geojson import Feature, FeatureCollection, Point\n"
   ]
  },
  {
   "cell_type": "code",
   "execution_count": 21,
   "id": "e6e757ed-54df-45b0-a94f-64b8005de828",
   "metadata": {},
   "outputs": [],
   "source": [
    "from pandas_geojson import to_geojson"
   ]
  },
  {
   "cell_type": "code",
   "execution_count": 24,
   "id": "97b87296-905b-4ff2-90ef-b8ac073b16ec",
   "metadata": {},
   "outputs": [],
   "source": [
    "geo_json = to_geojson(df=df_estates, lat='lat', lon='lon',\n",
    "                 properties=['id','name','locality_name', 'price_czk', 'square'])"
   ]
  },
  {
   "cell_type": "code",
   "execution_count": 26,
   "id": "b1f7170a-d630-4462-a0d0-26e3d7df5e81",
   "metadata": {},
   "outputs": [],
   "source": [
    "with open('file.geojson', 'w', encoding='utf-8') as f:\n",
    "    json.dump(geo_json, f, ensure_ascii=False)"
   ]
  }
 ],
 "metadata": {
  "kernelspec": {
   "display_name": "Python 3 (ipykernel)",
   "language": "python",
   "name": "python3"
  },
  "language_info": {
   "codemirror_mode": {
    "name": "ipython",
    "version": 3
   },
   "file_extension": ".py",
   "mimetype": "text/x-python",
   "name": "python",
   "nbconvert_exporter": "python",
   "pygments_lexer": "ipython3",
   "version": "3.9.13"
  }
 },
 "nbformat": 4,
 "nbformat_minor": 5
}
