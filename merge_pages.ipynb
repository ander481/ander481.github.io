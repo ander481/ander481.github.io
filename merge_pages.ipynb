{
 "cells": [
  {
   "cell_type": "code",
   "execution_count": 1,
   "id": "1c67a0fb-e0eb-46d5-997f-51ddc613b27d",
   "metadata": {},
   "outputs": [],
   "source": [
    "import json"
   ]
  },
  {
   "cell_type": "code",
   "execution_count": 2,
   "id": "c7321888-62b7-4556-bc49-e3204b717e5f",
   "metadata": {},
   "outputs": [],
   "source": [
    "%store -r requests_num"
   ]
  },
  {
   "cell_type": "code",
   "execution_count": 3,
   "id": "a7f102da-8585-45b2-9115-4f93e5e5d4db",
   "metadata": {},
   "outputs": [],
   "source": [
    "# merging ..."
   ]
  },
  {
   "cell_type": "code",
   "execution_count": 4,
   "id": "a1a006e9-d063-4642-a356-f8bf9e7dfa8a",
   "metadata": {},
   "outputs": [],
   "source": [
    "n = requests_num\n",
    "\n",
    "for i in range(n):\n",
    "    i = i + 1 # starting from page \"1\"\n",
    "    f = open(f\"output/page_{i}.json\")\n",
    "    data = json.load(f)\n",
    "    break\n",
    "\n",
    "json_object = json.dumps(data, indent=4)\n",
    "with open(\"output/output.json\", \"w\") as outfile:\n",
    "    outfile.write(json_object)"
   ]
  }
 ],
 "metadata": {
  "kernelspec": {
   "display_name": "Python 3 (ipykernel)",
   "language": "python",
   "name": "python3"
  },
  "language_info": {
   "codemirror_mode": {
    "name": "ipython",
    "version": 3
   },
   "file_extension": ".py",
   "mimetype": "text/x-python",
   "name": "python",
   "nbconvert_exporter": "python",
   "pygments_lexer": "ipython3",
   "version": "3.9.13"
  }
 },
 "nbformat": 4,
 "nbformat_minor": 5
}
