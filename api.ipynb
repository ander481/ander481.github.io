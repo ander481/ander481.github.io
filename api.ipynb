{
 "cells": [
  {
   "cell_type": "markdown",
   "id": "caf80abe-d9dd-4e59-bcc8-acc5afa4a619",
   "metadata": {},
   "source": [
    "### Import"
   ]
  },
  {
   "cell_type": "code",
   "execution_count": 2,
   "id": "c7bae91c-ef64-42cd-96b1-0b99e877d784",
   "metadata": {},
   "outputs": [],
   "source": [
    "import requests"
   ]
  },
  {
   "cell_type": "code",
   "execution_count": 3,
   "id": "df296545-74a0-427d-b669-6466d127208e",
   "metadata": {},
   "outputs": [],
   "source": [
    "import json"
   ]
  },
  {
   "cell_type": "markdown",
   "id": "e5df9c44-a34e-4956-80d2-544da094b638",
   "metadata": {},
   "source": [
    "### Parse settings"
   ]
  },
  {
   "cell_type": "code",
   "execution_count": 4,
   "id": "00eafa07-2ce6-4410-99f9-29158fc53376",
   "metadata": {},
   "outputs": [],
   "source": [
    "#   1 - Byty (Flats)\n",
    "#   2 - Domy (Houses)\n",
    "#   3 - Pozemky (Lands)"
   ]
  },
  {
   "cell_type": "code",
   "execution_count": 18,
   "id": "cccf5cf3-a0c5-48cc-85c1-a0ac8b32f52d",
   "metadata": {},
   "outputs": [
    {
     "name": "stdout",
     "output_type": "stream",
     "text": [
      "Stored 'category_main_cb' (int)\n"
     ]
    }
   ],
   "source": [
    "category_main_cb = 1\n",
    "\n",
    "%store category_main_cb"
   ]
  },
  {
   "cell_type": "code",
   "execution_count": 19,
   "id": "c56ad0fd-bab7-44f6-ae5b-894e529a0ba7",
   "metadata": {},
   "outputs": [
    {
     "name": "stdout",
     "output_type": "stream",
     "text": [
      "Stored 'category_type_cb' (int)\n"
     ]
    }
   ],
   "source": [
    "category_type_cb = 1\n",
    "\n",
    "%store category_type_cb"
   ]
  },
  {
   "cell_type": "code",
   "execution_count": 7,
   "id": "152e69c1-0fd2-49ae-86d0-cc27be664402",
   "metadata": {},
   "outputs": [],
   "source": [
    "#   4 - 2kk"
   ]
  },
  {
   "cell_type": "code",
   "execution_count": 20,
   "id": "eafbd5ef-cba9-4c5b-9ed8-b22f1065028a",
   "metadata": {},
   "outputs": [
    {
     "name": "stdout",
     "output_type": "stream",
     "text": [
      "Stored 'category_sub_cb' (int)\n"
     ]
    }
   ],
   "source": [
    "category_sub_cb = 4\n",
    "\n",
    "%store category_sub_cb"
   ]
  },
  {
   "cell_type": "code",
   "execution_count": 9,
   "id": "4202802f-c19e-4ac3-ba75-12fdf6581044",
   "metadata": {},
   "outputs": [],
   "source": [
    "#   10 - Praha\n",
    "#   11 - Středočeský kraj"
   ]
  },
  {
   "cell_type": "code",
   "execution_count": 21,
   "id": "d829bd4c-e5ec-4646-a02d-51a51b7259ea",
   "metadata": {},
   "outputs": [
    {
     "name": "stdout",
     "output_type": "stream",
     "text": [
      "Stored 'locality_region_id' (int)\n"
     ]
    }
   ],
   "source": [
    "locality_region_id = 10\n",
    "\n",
    "%store locality_region_id"
   ]
  },
  {
   "cell_type": "code",
   "execution_count": 11,
   "id": "c356a33a-2342-4b22-8d71-78f71e3bc5d7",
   "metadata": {},
   "outputs": [],
   "source": [
    "#   5001 - Praha 1\n",
    "#   5004 - Praha 4"
   ]
  },
  {
   "cell_type": "code",
   "execution_count": 23,
   "id": "4a58d6a4-b6ad-416b-bd4c-58007c481076",
   "metadata": {},
   "outputs": [
    {
     "name": "stdout",
     "output_type": "stream",
     "text": [
      "Stored 'locality_district_id' (int)\n"
     ]
    }
   ],
   "source": [
    "locality_district_id = 5004\n",
    "\n",
    "%store locality_district_id"
   ]
  },
  {
   "cell_type": "code",
   "execution_count": 24,
   "id": "a5bfaa33-b696-441d-89ff-02a4e33439a0",
   "metadata": {},
   "outputs": [
    {
     "name": "stdout",
     "output_type": "stream",
     "text": [
      "Stored 'per_page' (int)\n"
     ]
    }
   ],
   "source": [
    "per_page = 20\n",
    "\n",
    "%store per_page"
   ]
  },
  {
   "cell_type": "markdown",
   "id": "732ebb24-65c5-4fb9-95a7-9b69858e1da0",
   "metadata": {},
   "source": [
    "### Sending request"
   ]
  },
  {
   "cell_type": "code",
   "execution_count": 14,
   "id": "e3f64e4f-d550-405c-b9d7-9eecc8c3d90c",
   "metadata": {},
   "outputs": [],
   "source": [
    "request = requests.get(f\"https://www.sreality.cz/api/cs/v2/estates?category_main_cb={category_main_cb}&category_sub_cb={category_sub_cb}&category_type_cb={category_type_cb}&locality_district_id={locality_district_id}&locality_region_id={locality_region_id}&page=1&per_page={per_page}\")\n"
   ]
  },
  {
   "cell_type": "code",
   "execution_count": 15,
   "id": "68c5c68b-a421-44f8-ba15-bc99101d343b",
   "metadata": {},
   "outputs": [],
   "source": [
    "output = request.json()"
   ]
  },
  {
   "cell_type": "code",
   "execution_count": 16,
   "id": "398dcc31-77af-4d1b-ba4a-149321d426ea",
   "metadata": {},
   "outputs": [],
   "source": [
    "json_object = json.dumps(output, indent=4)"
   ]
  },
  {
   "cell_type": "code",
   "execution_count": 17,
   "id": "27e26be4-0d0c-4997-a27a-a9449cdfa04c",
   "metadata": {},
   "outputs": [],
   "source": [
    "with open(\"output/try_output.json\", \"w\") as outfile:\n",
    "    outfile.write(json_object)"
   ]
  },
  {
   "cell_type": "code",
   "execution_count": null,
   "id": "7228b716-b213-4419-a133-d1342eb6d490",
   "metadata": {},
   "outputs": [],
   "source": []
  }
 ],
 "metadata": {
  "kernelspec": {
   "display_name": "Python 3 (ipykernel)",
   "language": "python",
   "name": "python3"
  },
  "language_info": {
   "codemirror_mode": {
    "name": "ipython",
    "version": 3
   },
   "file_extension": ".py",
   "mimetype": "text/x-python",
   "name": "python",
   "nbconvert_exporter": "python",
   "pygments_lexer": "ipython3",
   "version": "3.9.13"
  }
 },
 "nbformat": 4,
 "nbformat_minor": 5
}
